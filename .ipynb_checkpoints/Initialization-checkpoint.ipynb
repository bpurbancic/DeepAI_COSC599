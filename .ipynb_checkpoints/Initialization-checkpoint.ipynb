{
 "cells": [
  {
   "cell_type": "code",
   "execution_count": 6,
   "metadata": {},
   "outputs": [],
   "source": [
    "import numpy as np\n",
    "# Do we define DIMS, LEVELS as \"constants\" here?\n",
    "# What's that funny name for the hash tag?"
   ]
  },
  {
   "cell_type": "code",
   "execution_count": 7,
   "metadata": {},
   "outputs": [],
   "source": [
    "def initializeArrays (dims, initType = \"he\"):\n",
    "    # create empty dictionaries for return values\n",
    "    ### Create grads of correct sizes\n",
    "    params = {}\n",
    "    grads = {}\n",
    "    \n",
    "    # add check for dims matching the length of levels\n",
    "    # Do we create constants python for dims, levels?\n",
    "    \n",
    "    # Check for type of initialization: zeroes, he, xavier, random\n",
    "    if initType == \"zeroes\":\n",
    "        params = initToZero(dims)\n",
    "    elif initType == \"xavier\":\n",
    "        params = initToXavier(dims)\n",
    "    elif initType == \"random\":\n",
    "        params = initToRandom(dims)\n",
    "    else:\n",
    "        params = initToHe(dims)\n",
    "        \n",
    "    ### initialize grads of correct size here\n",
    "        \n",
    "    return params, grads\n",
    "    "
   ]
  },
  {
   "cell_type": "code",
   "execution_count": 2,
   "metadata": {},
   "outputs": [],
   "source": [
    "def initToZero(dims):\n",
    "    # Return a dictionary of dim dimensions initialized to zeroes\n",
    "    \n",
    "    params = {}\n",
    "    L = len(dims) # Should this be a constant?\n",
    "    \n",
    "    for l in range(1, L):\n",
    "        \n",
    "        params['W' + str(l)] = np.zeros((dims[l], dims[l-1]))\n",
    "        params['b' + str(l)] = np.zeros((dims[l], 1))\n",
    "        \n",
    "    return params"
   ]
  },
  {
   "cell_type": "code",
   "execution_count": null,
   "metadata": {},
   "outputs": [],
   "source": [
    "def initToXavier(dims):\n",
    "    # Return a dictionary of dim dimensions with Xavier initialization for W and zero(e)s for b\n",
    "    \n",
    "    params = {}\n",
    "    L = len(dims) # Should this be a constant?\n",
    "    \n",
    "    for l in range(1, L):\n",
    "        \n",
    "        params['W' + str(l)] = np.random.randn((dims[l], dims[l-1])) * ((1/dims[l-1])**0.5)\n",
    "        params['b' + str(l)] = np.zeros((dims[l], 1))\n",
    "        \n",
    "    return params"
   ]
  },
  {
   "cell_type": "code",
   "execution_count": 7,
   "metadata": {},
   "outputs": [],
   "source": [
    "def initToRandom(dims):\n",
    "    # Return a dictionary of dim dimensions initialized using the .randn function\n",
    "    \n",
    "    params = {}\n",
    "    L = len(dims) # Should this be a constant?\n",
    "    \n",
    "    # np.random.seed(1) # Uncomment to get consistent results\n",
    "    \n",
    "    for l in range(1, L):\n",
    "        \n",
    "        params['W' + str(l)] = np.random.randn((dims[l], dims[l-1])) * 10\n",
    "        params['b' + str(l)] = np.zeros((dims[l], 1))\n",
    "        \n",
    "    return params\n",
    "    \n",
    "    "
   ]
  },
  {
   "cell_type": "code",
   "execution_count": null,
   "metadata": {},
   "outputs": [],
   "source": [
    "def initToHe(dims):\n",
    "    # Return a dictionary of dim dimensions with He initialization for W and zero(e)s for b\n",
    "    \n",
    "    params = {}\n",
    "    L = len(dims) # Should this be a constant?\n",
    "    \n",
    "    for l in range(1, L):\n",
    "        \n",
    "        params['W' + str(l)] = np.random.randn((dims[l], dims[l-1])) * ((2/dims[l-1])**0.5)\n",
    "        params['b' + str(l)] = np.zeros((dims[l], 1))\n",
    "        \n",
    "    return params"
   ]
  }
 ],
 "metadata": {
  "kernelspec": {
   "display_name": "Python 3",
   "language": "python",
   "name": "python3"
  },
  "language_info": {
   "codemirror_mode": {
    "name": "ipython",
    "version": 3
   },
   "file_extension": ".py",
   "mimetype": "text/x-python",
   "name": "python",
   "nbconvert_exporter": "python",
   "pygments_lexer": "ipython3",
   "version": "3.8.5"
  }
 },
 "nbformat": 4,
 "nbformat_minor": 4
}
